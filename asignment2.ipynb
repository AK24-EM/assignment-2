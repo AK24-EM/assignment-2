{
 "cells": [
  {
   "cell_type": "markdown",
   "metadata": {},
   "source": []
  },
  {
   "cell_type": "code",
   "execution_count": null,
   "metadata": {},
   "outputs": [],
   "source": [
    "\n",
    "#1 WAP to check whether a number is even or odd.\n",
    "x=int(input(\"enter your number:\"))\n",
    "if x%2==0 :\n",
    "  print(\"the number is even \")\n",
    "else :\n",
    "    print(\"it is odd\")"
   ]
  },
  {
   "cell_type": "code",
   "execution_count": null,
   "metadata": {},
   "outputs": [],
   "source": [
    "#1 WAP to check whether a number is even or odd.\n",
    "x=int(input(\"enter your number:\"))\n",
    "if x%2==0 :\n",
    "    print(\"the number is even \")\n",
    "else :\n",
    "    print(\"it is odd\")"
   ]
  },
  {
   "cell_type": "code",
   "execution_count": null,
   "metadata": {},
   "outputs": [],
   "source": [
    "#2 WAP to check whether person is eligible for voting.\n",
    "x= int(input(\"enter your age:\"))\n",
    "if x>=18:\n",
    "    print(\"he is eligile for voting:\")\n",
    "else :\n",
    "    print(\"he is not eligible for voting:\")"
   ]
  },
  {
   "cell_type": "code",
   "execution_count": null,
   "metadata": {},
   "outputs": [],
   "source": [
    "\n",
    "# 3 WAP to enter a number between 1 to 7 as days of a week and print the day\n",
    "# accordingly. (Monday, Tuesday ...) using if elif case.\n",
    "x = int(input(\"enter the number of days:\"))\n",
    "if x == 1:\n",
    "    print(\"the day is monday\")\n",
    "elif x == 2:\n",
    "    print(\"the day is  tuesday\")\n",
    "elif x == 3:\n",
    "    print(\"the day is  wednesday\")\n",
    "elif x == 4:\n",
    "    print(\"the day is  thursday\")\n",
    "elif x == 5:\n",
    "    print(\"the day is  friday\")\n",
    "elif x == 6:\n",
    "    print(\"the day is saturday\")\n",
    "elif x == 7:\n",
    "    print(\"the day is  sunday\")\n",
    "else:\n",
    "    print(\"invalid\")"
   ]
  },
  {
   "cell_type": "code",
   "execution_count": null,
   "metadata": {},
   "outputs": [],
   "source": [
    "# 4 WAP to enter a number between 1 to 7 as days of a week and print the day\n",
    "# accordingly. (Monday, Tuesday ...) using match case.\n",
    "num = int(input(\"enter the number of days:\"))\n",
    "match num :\n",
    "    case 1:\n",
    "        print(\"monday\")\n",
    "    case 2:\n",
    "        print(\"tuesday\")\n",
    "    case 3:\n",
    "        print(\"wednesday\")\n",
    "    case 4:\n",
    "        print(\"thursday\")\n",
    "    case 5:\n",
    "        print(\"friday\")\n",
    "    case 6:\n",
    "        print(\"saturday\")\n",
    "    case 7:\n",
    "        print(\"sunday\")\n",
    "    case _:\n",
    "        print(\"Invalid\")"
   ]
  },
  {
   "cell_type": "code",
   "execution_count": null,
   "metadata": {},
   "outputs": [],
   "source": [
    "# 5. WAP to check whether a year is a leap year or not. A year is a leap year if “any\n",
    "# one of ” the following conditions are satisfied:\n",
    "# • The year is multiple of 400.\n",
    "# • The year is a multiple of 4 and not a multiple of 100\n",
    "\n",
    "\n",
    "x= int(input(\"enter the number of days:\"))\n",
    "if x%4==0 and x%100!=0:\n",
    "    print(\"the year is  a multiple of 400\")\n",
    "else:\n",
    "    print(\"the year is multiple of 4 and not a multiple of 100\")\n"
   ]
  },
  {
   "cell_type": "code",
   "execution_count": null,
   "metadata": {},
   "outputs": [],
   "source": [
    "#6. WAP to calculate to take in the marks of 5 subjects, compute average and display\n",
    "# the grade as per following rules:\n",
    "# • average >= 90 : “A\"\n",
    "# • average >= 80 : “B\"\n",
    "# • average >= 70 : “C\"\n",
    "# • average >= 60 : “D”\n",
    "average = int(input(\"enter your marks:\"))\n",
    "if average>=90:\n",
    "    print(\"A\")\n",
    "elif average>=80:\n",
    "    print(\"B\")\n",
    "elif average>=70:\n",
    "    print(\"C\")\n",
    "elif average>=60:\n",
    "    print(\"D\")\n",
    "else:\n",
    "    print(\"eligible for rexam by paying 2000 rupees:\")"
   ]
  },
  {
   "cell_type": "code",
   "execution_count": null,
   "metadata": {},
   "outputs": [],
   "source": [
    "# 7 WAP to input a character. Check whether the character is vowel or consonant.\n",
    "x = input(\"enter your character:\")\n",
    "if x in \"aeiou\":\n",
    "    print(\"it is a vowels:\")\n",
    "else :\n",
    "    print(\"it is a consonants\")"
   ]
  },
  {
   "cell_type": "code",
   "execution_count": null,
   "metadata": {},
   "outputs": [],
   "source": [
    "# 8. WAP to search an element in a list [use for: else clause]\n",
    "x= [\"rohan\",\"sania\",\"ravidra\",\"tanish\",\"rohit\"]\n",
    "for i in x :\n",
    "    list = input(\"enter your name:\")\n",
    "    x = [list]\n",
    "    if i == list:\n",
    "        print(\"it is present in the list\")\n",
    "    else:\n",
    "        print(\"it is not present in the given list:\")\n",
    "        break\n",
    "else :\n",
    "    print(\"the given list is invalid \")"
   ]
  },
  {
   "cell_type": "code",
   "execution_count": null,
   "metadata": {},
   "outputs": [],
   "source": [
    "# 9. Write a program to take a single digit number from the key board and print its\n",
    "# spelling in English word using if elif.\n",
    "x = int(input(\"enter your number:\"))\n",
    "if x == 1:\n",
    "    print(\"one\")\n",
    "elif x == 2:\n",
    "    print(\"two\")\n",
    "elif x == 3:\n",
    "    print(\"three\")\n",
    "elif x == 4:\n",
    "    print(\"four\")\n",
    "elif x == 5:\n",
    "    print(\"five\")\n",
    "elif x == 6:\n",
    "    print(\"six\")\n",
    "elif x == 7:\n",
    "    print(\"seven\")\n",
    "elif x == 8:\n",
    "    print(\"eight\")\n",
    "elif x == 2:\n",
    "    print(\"nine\")\n",
    "else:\n",
    "    print(\"invalid\")"
   ]
  },
  {
   "cell_type": "code",
   "execution_count": null,
   "metadata": {},
   "outputs": [],
   "source": [
    "# 10 WAP to input three numbers and arrange them in ascending numbers.\n",
    "x=int(input(\"enter the combo of first numbers :\"))\n",
    "y =int(input(\"enter the combo of first numbers :\"))\n",
    "z= int(input(\"enter the combo of first numbers :\"))\n",
    "if x<y:\n",
    "    if y<z:        \n",
    "        print(x,\"<\", y,\"<\",z )\n",
    "    else :\n",
    "        print(z,\"<\",x,\"<\",y)\n",
    "else:\n",
    "    if z<y:\n",
    "        print(x,\"<\",z,\"<\",y)\n",
    "    else:\n",
    "        if z<x:\n",
    "            print(y,\"<\",z,\"<\",x)\n",
    "        else:\n",
    "            print(b,\"<\",x,\"<\",z)"
   ]
  },
  {
   "cell_type": "code",
   "execution_count": null,
   "metadata": {},
   "outputs": [],
   "source": [
    "#11 Write a program to take a single digit number from the key board and print its\n",
    "# spelling in English word using match case\n",
    "x = int(input(\"ente the number:\"))\n",
    "match x:\n",
    "    case 1:\n",
    "        print(\"one\")\n",
    "    case 2:\n",
    "        print(\"two\")\n",
    "    case 3:\n",
    "        print(\"three\")\n",
    "    case 4:\n",
    "        print(\"four\")\n",
    "    case 5:\n",
    "        print(\"five\")\n",
    "    case 6:\n",
    "        print(\"six\")\n",
    "    case 7:\n",
    "        print(\"seven\")\n",
    "    case 8:\n",
    "        print(\"eight\")\n",
    "    case 9:\n",
    "        print(\"nine\")\n",
    "    case _:\n",
    "        print(\"invalid\")"
   ]
  },
  {
   "cell_type": "code",
   "execution_count": null,
   "metadata": {},
   "outputs": [],
   "source": [
    "#12 WAP to read two numbers and arithmetic operator [+,-,*,/,%] perform the\n",
    "# operation and display the computed result. [Hint: use elif statement]\n",
    "x = int (input(\"enter your first number:\"))\n",
    "i = input(\"enter your operations:\")\n",
    "y = int (input(\"enter your second number:\"))\n",
    "if i is \"+\":\n",
    "    print(\"result\",(x+y))\n",
    "elif i is \"-\":\n",
    "    print(\"result\",(x-y))\n",
    "elif i is \"*\":\n",
    "    print(\"result\",(x*y))\n",
    "elif i is \"/\":\n",
    "    print(\"result\",(x/y))\n",
    "elif i is \"%\":\n",
    "    print(\"result\",(x%y))\n",
    "else:\n",
    "    print(\"invalid\")"
   ]
  },
  {
   "cell_type": "code",
   "execution_count": null,
   "metadata": {},
   "outputs": [],
   "source": [
    "#13 WAP to check whether a inputted character is uppercase or lowercase or digit or\n",
    "# any other character.\n",
    "x = input(\"Enter your characters: \").split()\n",
    "for char in x:\n",
    "    if char.isupper():\n",
    "        print(f\"It is uppercase: {char}\")\n",
    "    elif char.islower():\n",
    "        print(f\"It is lowercase: {char}\")\n",
    "    elif char.isdigit():\n",
    "        print(f\"It is a digit: {char}\")\n",
    "    else:\n",
    "        print(f\"It is a special character: {char}\")"
   ]
  },
  {
   "cell_type": "code",
   "execution_count": null,
   "metadata": {},
   "outputs": [],
   "source": [
    "#14 Develop a number guessing game using loops and conditional statements. Ask\n",
    "# user to guess a secret number. If user has not guessed correct number, provide\n",
    "# him/her hint.\n",
    "\n",
    "from random import randint\n",
    "LOW , HIGH = 1,10\n",
    "Secret_number=randint(LOW ,HIGH)\n",
    "while True:\n",
    "    guess = input(f\"guess the number between {LOW} and {HIGH}:\")\n",
    "    number = int(guess)\n",
    "    if number > Secret_number:\n",
    "        print(f\"guesses number is less than{number}\")\n",
    "    elif number<Secret_number:\n",
    "        print(f\"guessed number is greater than {number}\")\n",
    "    else:\n",
    "        break\n",
    "print(f\"the guessed number is {number}\")"
   ]
  },
  {
   "cell_type": "code",
   "execution_count": null,
   "metadata": {},
   "outputs": [],
   "source": [
    "# 15. WAP to prompt user to enter name and password until it enters \"stud\" in name\n",
    "# and \"pass\" in password. Allow only five attempts\n",
    "print(f\"enter the name and password correctly \\n You have only 5 attempt\")\n",
    "count=0\n",
    "while count<5:\n",
    "    name , pwd =input(\"enter your NAME and PASSWORD:\").split()\n",
    "    if name == \"stud\" and pwd == \"pass\":\n",
    "        print(\" Access granted\")\n",
    "    else :\n",
    "        if count==4:\n",
    "            print(\"sorry attempt completed\")\n",
    "        else :\n",
    "            print(\"access denied , try again \")\n",
    "        count= count+1"
   ]
  },
  {
   "cell_type": "code",
   "execution_count": null,
   "metadata": {},
   "outputs": [],
   "source": [
    "# 16. WAP to display numbers from 15 to 1 in descending order.\n",
    "for i in range (15,0,-1):\n",
    "    print(i , end=\" \")"
   ]
  },
  {
   "cell_type": "code",
   "execution_count": null,
   "metadata": {},
   "outputs": [],
   "source": [
    "#17. WAP to display sum of numbers from 11 to 200 using for loop.\n",
    "sum = 0\n",
    "for i in range (11,201):\n",
    "    sum+=i\n",
    "print(\"the sum of number from 11 to 200\" , sum)"
   ]
  },
  {
   "cell_type": "code",
   "execution_count": null,
   "metadata": {},
   "outputs": [],
   "source": [
    "# 18. WAP to display average of numbers from 5to 15 and 21 to 60.\n",
    "sum1 = 0\n",
    "count1=0\n",
    "for i in range (5,16):\n",
    "    sum1+=i\n",
    "    count1+=1\n",
    "sum2 = 0\n",
    "count2= 0\n",
    "for i in range(21,60):\n",
    "    sum2+=i\n",
    "    count2+=1\n",
    "total_sum = sum1 + sum2\n",
    "total_count = count1 + count2\n",
    "average = total_sum / total_count\n",
    "\n",
    "print(\"the average of number for 5-15 and 21 - 60 is\" , average )"
   ]
  },
  {
   "cell_type": "code",
   "execution_count": null,
   "metadata": {},
   "outputs": [],
   "source": [
    "# 19.WAP to display odd numbers from 5 to 30.\n",
    "for i in range (5,30):\n",
    "    if i%2!=0 :\n",
    "        print(i)"
   ]
  },
  {
   "cell_type": "code",
   "execution_count": null,
   "metadata": {},
   "outputs": [],
   "source": [
    "# 20. WAP to find factorial of a number inputted by the user.\n",
    "x= int(input(\"enter your factorial:\"))\n",
    "fac = 1\n",
    "for i in range(x ,0 , -1):\n",
    "    fac = fac*i\n",
    "print(fac)"
   ]
  },
  {
   "cell_type": "code",
   "execution_count": null,
   "metadata": {},
   "outputs": [],
   "source": [
    "#  21. WAP to find sum of digits of a int number.\n",
    "x= int(input(\"enter your number:\"))\n",
    "sum=0\n",
    "for i in str(x):\n",
    "    sum+=int(i)\n",
    "print(\"sum of the integers:\",sum)"
   ]
  },
  {
   "cell_type": "code",
   "execution_count": null,
   "metadata": {},
   "outputs": [],
   "source": [
    "# 22. WAP to find sum of digits of a int number.\n",
    "sum=0\n",
    "for i in range (30,50):\n",
    "    if i%2==0:\n",
    "       sum = sum +i\n",
    "print(\"the sum of even number from 30 to 50 is\", sum)"
   ]
  },
  {
   "cell_type": "code",
   "execution_count": null,
   "metadata": {},
   "outputs": [],
   "source": [
    "# 23. WAP to print multiplication table.\n",
    "x= int(input(\"enter your mutiplation table number:\"))\n",
    "for i in range (1,11):   \n",
    "    print(f\"{x} x {i} = {x*i}\")"
   ]
  },
  {
   "cell_type": "code",
   "execution_count": null,
   "metadata": {},
   "outputs": [],
   "source": [
    "# 24.  WAP to print the following patterns:\n",
    "rows=(int(input(\"enter your number:\")))\n",
    "for i in range(1,rows+1):\n",
    "    for j in range(1,i+1):\n",
    "        print(i , end=' ')\n",
    "    print()"
   ]
  },
  {
   "cell_type": "code",
   "execution_count": null,
   "metadata": {},
   "outputs": [],
   "source": [
    "# 25. WAP to print pattern:\n",
    "x = int(input(\"enter your number:\"))\n",
    "for i in range(x+1):\n",
    "    for j in range(i):\n",
    "        print(\"*\", end=' ')\n",
    "    print()\n",
    "for k in range(i,0,-1):\n",
    "    for l in range(k):\n",
    "        print(\"*\", end=' ')\n",
    "    print()"
   ]
  },
  {
   "cell_type": "code",
   "execution_count": null,
   "metadata": {},
   "outputs": [],
   "source": [
    "#  26. WAP to print pattern:\n",
    "rows=int(input(\"enter your rows:\"))\n",
    "for i in range(65,rows+65):\n",
    "    for j in range (65, i+1):\n",
    "        print(chr(i), end=' ')\n",
    "    print()"
   ]
  },
  {
   "cell_type": "code",
   "execution_count": 3,
   "metadata": {},
   "outputs": [
    {
     "name": "stdout",
     "output_type": "stream",
     "text": [
      "3 is armstrong number\n"
     ]
    }
   ],
   "source": [
    "# 27. Write a program to find whether given number is an Armstrong Number\n",
    "def is_armstrong_number(x):\n",
    "    digits=str(x)\n",
    "    n=len(digits)\n",
    "    armstrong_sum=sum(int(digits)**n for digit in digits)\n",
    "    return armstrong_sum==x\n",
    "number=int(input(\"enter your number:\"))\n",
    "if is_armstrong_number(number):\n",
    "    print(f\"{number} is armstrong number\")\n",
    "else:\n",
    "    print(f\"{number} is not armstrong number\")"
   ]
  },
  {
   "cell_type": "code",
   "execution_count": 4,
   "metadata": {},
   "outputs": [
    {
     "name": "stdout",
     "output_type": "stream",
     "text": [
      "fiboanci number\n",
      "0 1 1 2 3 "
     ]
    }
   ],
   "source": [
    "# 28. WAP to generate the Fibonacci series up to n terms.\n",
    "def recursive_fibonaci(x):\n",
    "    if x<=1:\n",
    "        return x\n",
    "    else:\n",
    "        return(recursive_fibonaci(x-1) + recursive_fibonaci(x-2))\n",
    "\n",
    "n= int(input(\"enter your number:\"))\n",
    "if n<=0:\n",
    "    print(\"invalid\")\n",
    "else:\n",
    "    print(\"fiboanci number\")\n",
    "for i in range (n):\n",
    "    print(recursive_fibonaci(i),end=' ') "
   ]
  },
  {
   "cell_type": "code",
   "execution_count": null,
   "metadata": {},
   "outputs": [],
   "source": [
    "# 29. Write a program that check whether a number is prime number or not.\n",
    "x= int(input(\"enter your prime number\"))\n",
    "if x%2!=0:\n",
    "    print(\"it is prime number\")\n",
    "else:\n",
    "    print(\"it is even number\")"
   ]
  },
  {
   "cell_type": "code",
   "execution_count": null,
   "metadata": {},
   "outputs": [],
   "source": [
    "#30. WAP to calculate sum and average of a given array: arr=(‘i’,[1,2,3,4,5])\n",
    "# import array as arr\n",
    "a = arr.array(\"i\" , [1,2,3,4,5])\n",
    "digit=sum(a)\n",
    "average= digit/len(a)\n",
    "print(average)\n",
    "print(digit)"
   ]
  },
  {
   "cell_type": "code",
   "execution_count": null,
   "metadata": {},
   "outputs": [],
   "source": [
    "# 31. Write a Python program to reverse the order of the items in the array.\n",
    "import array as arr\n",
    "a = arr.array(\"i\" , [1,2,3,4,5])\n",
    "print(a[::-1])"
   ]
  },
  {
   "cell_type": "code",
   "execution_count": null,
   "metadata": {},
   "outputs": [],
   "source": [
    "# 32. Write a Python program to remove duplicate elements in a given array of integers\n",
    "def remove_number(arr):\n",
    "    return(list(set(arr)))\n",
    "arr=[1,2,3,4,5,6,5,3,3]\n",
    "unique_number=remove_number(arr)\n",
    "print('original number ', arr)\n",
    "print(\"array without duplicate\",unique_number)"
   ]
  },
  {
   "cell_type": "code",
   "execution_count": null,
   "metadata": {},
   "outputs": [],
   "source": [
    "#33. Write a program that takes a string as input and prints it in reverse order.\n",
    "x= input(\"enter the character: \")\n",
    "print(x[::-1])\n"
   ]
  },
  {
   "cell_type": "code",
   "execution_count": null,
   "metadata": {},
   "outputs": [],
   "source": [
    "#34. Write a program that counts the number of vowels in a given string\n",
    "def count_vowels(str):\n",
    "    vowels = \"aeiouAEIOU\"\n",
    "    vowels_count=0\n",
    "    for char in str:\n",
    "        if char in vowels:\n",
    "            vowels_count+=1\n",
    "    return vowels_count\n",
    "x = input(\"entr your character:\")\n",
    "vowels_count=count_vowels(x)\n",
    "print(f\"the number of vowels in string :{vowels_count}\")"
   ]
  },
  {
   "cell_type": "code",
   "execution_count": null,
   "metadata": {},
   "outputs": [],
   "source": [
    "#35. Write a program that checks if a given string is a palindrome (reads the same\n",
    "# forwards and backwards).\n",
    "def is_palindrome(string):\n",
    "    string= string.replace(\" \",\"\").lower()\n",
    "    return string==string[::-1]\n",
    "\n",
    "tst_string= input(\"enter your character:\")\n",
    "if is_palindrome(tst_string):\n",
    "    print(\"\")\n"
   ]
  },
  {
   "cell_type": "code",
   "execution_count": 28,
   "metadata": {},
   "outputs": [],
   "source": [
    "# 37. WAP to print even length words in string\n",
    "# [hint: split() and for loop]\n",
    "\n",
    "user = input(\"enter your sentence:\")\n",
    "even = user.split(\" \")\n",
    "for i in user:\n",
    "    if (len(user))%2==0:\n",
    "        print(i, end='')"
   ]
  },
  {
   "cell_type": "code",
   "execution_count": null,
   "metadata": {},
   "outputs": [],
   "source": [
    "# 38. WAP to remove spaces from given string:\n",
    "# “Python is very easy”\n",
    "user = input(\"enter your sentence:\")\n",
    "x = user.split(\" \")\n",
    "print(''.join(x))"
   ]
  },
  {
   "cell_type": "code",
   "execution_count": 1,
   "metadata": {},
   "outputs": [
    {
     "name": "stdout",
     "output_type": "stream",
     "text": [
      "converted string:  A\n"
     ]
    }
   ],
   "source": [
    "# 39. WAP to convert given list of ASCII value to string. [65, 66, 67, 68, 69]\n",
    "# [Hint: use chr() to convert ASCII value to character]\n",
    "\n",
    "def ascii_to_string(ascii_values):\n",
    "    result = \" \"\n",
    "    for value in ascii_values:\n",
    "        result+=chr(value)\n",
    "        return result\n",
    "ascii_values = [65,66,67,68,69]\n",
    "result= ascii_to_string(ascii_values)\n",
    "print(\"converted string:\",result)"
   ]
  },
  {
   "cell_type": "code",
   "execution_count": null,
   "metadata": {},
   "outputs": [],
   "source": [
    "# 40. WAP to print the individual characters of the string inputted by user in the\n",
    "# following way\n",
    "# Example: H—e—l—l—o\n",
    "x = input(\"enter your word:\")\n",
    "print(\"-\".join(x)) "
   ]
  },
  {
   "cell_type": "code",
   "execution_count": null,
   "metadata": {},
   "outputs": [],
   "source": [
    "we can declre instance method \n",
    "inside constructor by usingf self varible\n",
    "iside instance method by using self variables\n",
    "outside of the class by using object reference variable"
   ]
  },
  {
   "cell_type": "code",
   "execution_count": 1,
   "metadata": {},
   "outputs": [
    {
     "name": "stdout",
     "output_type": "stream",
     "text": [
      "[4, 9, 16, 25, 36]\n"
     ]
    }
   ],
   "source": [
    "import array as arr\n",
    "s = arr.array(\"i\" , [2,3,4,5,6])\n",
    "y = map(lambda x: x**2 , s )\n",
    "print(list(y))"
   ]
  }
 ],
 "metadata": {
  "kernelspec": {
   "display_name": "Python 3",
   "language": "python",
   "name": "python3"
  },
  "language_info": {
   "codemirror_mode": {
    "name": "ipython",
    "version": 3
   },
   "file_extension": ".py",
   "mimetype": "text/x-python",
   "name": "python",
   "nbconvert_exporter": "python",
   "pygments_lexer": "ipython3",
   "version": "3.13.0"
  }
 },
 "nbformat": 4,
 "nbformat_minor": 2
}
